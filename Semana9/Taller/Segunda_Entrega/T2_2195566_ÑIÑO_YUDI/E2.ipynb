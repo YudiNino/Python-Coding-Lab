{
 "cells": [
  {
   "cell_type": "code",
   "execution_count": 75,
   "id": "7c044974",
   "metadata": {},
   "outputs": [],
   "source": [
    "import pandas as pd\n",
    "import numpy as np\n",
    "import sympy as sp\n",
    "import matplotlib.pyplot as plt\n",
    "from openpyxl import load_workbook"
   ]
  },
  {
   "cell_type": "code",
   "execution_count": 79,
   "id": "f64d805c",
   "metadata": {},
   "outputs": [
    {
     "data": {
      "text/html": [
       "<div>\n",
       "<style scoped>\n",
       "    .dataframe tbody tr th:only-of-type {\n",
       "        vertical-align: middle;\n",
       "    }\n",
       "\n",
       "    .dataframe tbody tr th {\n",
       "        vertical-align: top;\n",
       "    }\n",
       "\n",
       "    .dataframe thead th {\n",
       "        text-align: right;\n",
       "    }\n",
       "</style>\n",
       "<table border=\"1\" class=\"dataframe\">\n",
       "  <thead>\n",
       "    <tr style=\"text-align: right;\">\n",
       "      <th></th>\n",
       "      <th>h [mm]</th>\n",
       "      <th>b [mm]</th>\n",
       "      <th>t [mm]</th>\n",
       "    </tr>\n",
       "    <tr>\n",
       "      <th>perfil</th>\n",
       "      <th></th>\n",
       "      <th></th>\n",
       "      <th></th>\n",
       "    </tr>\n",
       "  </thead>\n",
       "  <tbody>\n",
       "    <tr>\n",
       "      <th>1</th>\n",
       "      <td>25</td>\n",
       "      <td>50</td>\n",
       "      <td>5.0</td>\n",
       "    </tr>\n",
       "    <tr>\n",
       "      <th>2</th>\n",
       "      <td>30</td>\n",
       "      <td>60</td>\n",
       "      <td>5.5</td>\n",
       "    </tr>\n",
       "    <tr>\n",
       "      <th>3</th>\n",
       "      <td>35</td>\n",
       "      <td>70</td>\n",
       "      <td>6.0</td>\n",
       "    </tr>\n",
       "    <tr>\n",
       "      <th>4</th>\n",
       "      <td>40</td>\n",
       "      <td>80</td>\n",
       "      <td>7.0</td>\n",
       "    </tr>\n",
       "    <tr>\n",
       "      <th>5</th>\n",
       "      <td>50</td>\n",
       "      <td>100</td>\n",
       "      <td>8.5</td>\n",
       "    </tr>\n",
       "    <tr>\n",
       "      <th>6</th>\n",
       "      <td>55</td>\n",
       "      <td>115</td>\n",
       "      <td>9.0</td>\n",
       "    </tr>\n",
       "    <tr>\n",
       "      <th>7</th>\n",
       "      <td>60</td>\n",
       "      <td>120</td>\n",
       "      <td>10.0</td>\n",
       "    </tr>\n",
       "    <tr>\n",
       "      <th>8</th>\n",
       "      <td>70</td>\n",
       "      <td>140</td>\n",
       "      <td>11.5</td>\n",
       "    </tr>\n",
       "    <tr>\n",
       "      <th>9</th>\n",
       "      <td>80</td>\n",
       "      <td>160</td>\n",
       "      <td>13.0</td>\n",
       "    </tr>\n",
       "    <tr>\n",
       "      <th>10</th>\n",
       "      <td>90</td>\n",
       "      <td>180</td>\n",
       "      <td>15.0</td>\n",
       "    </tr>\n",
       "  </tbody>\n",
       "</table>\n",
       "</div>"
      ],
      "text/plain": [
       "        h [mm]  b [mm]  t [mm]\n",
       "perfil                        \n",
       "1           25      50     5.0\n",
       "2           30      60     5.5\n",
       "3           35      70     6.0\n",
       "4           40      80     7.0\n",
       "5           50     100     8.5\n",
       "6           55     115     9.0\n",
       "7           60     120    10.0\n",
       "8           70     140    11.5\n",
       "9           80     160    13.0\n",
       "10          90     180    15.0"
      ]
     },
     "execution_count": 79,
     "metadata": {},
     "output_type": "execute_result"
    }
   ],
   "source": [
    "perfiles = pd.read_excel('T2.xlsx', usecols=\"B:E\", nrows=10, skiprows=3, index_col='perfil')\n",
    "perfiles\n"
   ]
  },
  {
   "cell_type": "code",
   "execution_count": 80,
   "id": "c5cada40",
   "metadata": {},
   "outputs": [
    {
     "data": {
      "text/plain": [
       "(25, 50, 5.0)"
      ]
     },
     "execution_count": 80,
     "metadata": {},
     "output_type": "execute_result"
    }
   ],
   "source": [
    "h = perfiles.loc[1, 'h [mm]']\n",
    "b = perfiles.loc[1, 'b [mm]']\n",
    "t = perfiles.loc[1, 't [mm]']\n",
    "h, b, t"
   ]
  },
  {
   "cell_type": "code",
   "execution_count": 81,
   "id": "fe72c0c1",
   "metadata": {},
   "outputs": [
    {
     "data": {
      "text/plain": [
       "350.0"
      ]
     },
     "execution_count": 81,
     "metadata": {},
     "output_type": "execute_result"
    }
   ],
   "source": [
    "area_total= (t*(h-t)) + (b*t) \n",
    "area_total"
   ]
  },
  {
   "cell_type": "code",
   "execution_count": 82,
   "id": "24805b1a",
   "metadata": {},
   "outputs": [
    {
     "data": {
      "text/plain": [
       "250.0"
      ]
     },
     "execution_count": 82,
     "metadata": {},
     "output_type": "execute_result"
    }
   ],
   "source": [
    "area1= (t*b)\n",
    "area1"
   ]
  },
  {
   "cell_type": "code",
   "execution_count": 83,
   "id": "87e91be6",
   "metadata": {},
   "outputs": [
    {
     "data": {
      "text/plain": [
       "100.0"
      ]
     },
     "execution_count": 83,
     "metadata": {},
     "output_type": "execute_result"
    }
   ],
   "source": [
    "area2= (t*(h-t))\n",
    "area2"
   ]
  },
  {
   "cell_type": "code",
   "execution_count": 84,
   "id": "05321a07",
   "metadata": {},
   "outputs": [
    {
     "data": {
      "text/plain": [
       "6625.0"
      ]
     },
     "execution_count": 84,
     "metadata": {},
     "output_type": "execute_result"
    }
   ],
   "source": [
    "y= (t*(h-t)*((h-t)/2)) + ((b*t)*((h-t)+(t/2)))\n",
    "y"
   ]
  },
  {
   "cell_type": "code",
   "execution_count": 85,
   "id": "2027a784",
   "metadata": {},
   "outputs": [
    {
     "data": {
      "text/plain": [
       "18.928571428571427"
      ]
     },
     "execution_count": 85,
     "metadata": {},
     "output_type": "execute_result"
    }
   ],
   "source": [
    "ybarra= y/area_total\n",
    "ybarra"
   ]
  },
  {
   "cell_type": "code",
   "execution_count": 86,
   "id": "94d23635",
   "metadata": {},
   "outputs": [
    {
     "data": {
      "text/plain": [
       "3709.608843537418"
      ]
     },
     "execution_count": 86,
     "metadata": {},
     "output_type": "execute_result"
    }
   ],
   "source": [
    "##Inercia en el eje x figura 1 \n",
    "i1x= ((b*(t**3))/12) + ((t*b)*(((h-t)+(t/2))-ybarra)**2)\n",
    "i1x\n"
   ]
  },
  {
   "cell_type": "code",
   "execution_count": 87,
   "id": "8ac8dd4d",
   "metadata": {},
   "outputs": [
    {
     "data": {
      "text/plain": [
       "11305.272108843536"
      ]
     },
     "execution_count": 87,
     "metadata": {},
     "output_type": "execute_result"
    }
   ],
   "source": [
    "## Inercia en el eje x figura 2 \n",
    "i2x= ((t*(h-t)**3)/12) + ((t*(h-t))*(ybarra-((h-t)/2))**2)\n",
    "i2x"
   ]
  },
  {
   "cell_type": "code",
   "execution_count": 88,
   "id": "02f49aa6",
   "metadata": {},
   "outputs": [
    {
     "data": {
      "text/plain": [
       "15014.880952380954"
      ]
     },
     "execution_count": 88,
     "metadata": {},
     "output_type": "execute_result"
    }
   ],
   "source": [
    "## Momento de inercia en x \n",
    "Mix= i1x + i2x\n",
    "Mix"
   ]
  },
  {
   "cell_type": "code",
   "execution_count": 89,
   "id": "baa6c356",
   "metadata": {},
   "outputs": [
    {
     "data": {
      "text/plain": [
       "3.1552"
      ]
     },
     "execution_count": 89,
     "metadata": {},
     "output_type": "execute_result"
    }
   ],
   "source": [
    "momento_maximo= 3.1552\n",
    "momento_maximo"
   ]
  },
  {
   "cell_type": "code",
   "execution_count": 90,
   "id": "110e6a92",
   "metadata": {},
   "outputs": [
    {
     "data": {
      "text/plain": [
       "3977.6158572844392"
      ]
     },
     "execution_count": 90,
     "metadata": {},
     "output_type": "execute_result"
    }
   ],
   "source": [
    "##Esfuerzo en MPa\n",
    "\n",
    "esfuerzo= (((momento_maximo*10**6)*ybarra)/(Mix))\n",
    "esfuerzo"
   ]
  },
  {
   "cell_type": "code",
   "execution_count": 91,
   "id": "87f11a72",
   "metadata": {
    "scrolled": true
   },
   "outputs": [
    {
     "data": {
      "text/plain": [
       "perfil\n",
       "1      350.00\n",
       "2      464.75\n",
       "3      594.00\n",
       "4      791.00\n",
       "5     1202.75\n",
       "6     1449.00\n",
       "7     1700.00\n",
       "8     2282.75\n",
       "9     2951.00\n",
       "10    3825.00\n",
       "Name: Area (mm2), dtype: float64"
      ]
     },
     "execution_count": 91,
     "metadata": {},
     "output_type": "execute_result"
    }
   ],
   "source": [
    "resultados= perfiles \n",
    "resultados['Area (mm2)']= (perfiles ['t [mm]']*(perfiles ['h [mm]'] - perfiles ['t [mm]'])) + (perfiles ['b [mm]']*perfiles ['t [mm]'])\n",
    "resultados['Area (mm2)']"
   ]
  },
  {
   "cell_type": "code",
   "execution_count": 92,
   "id": "b9f59dc7",
   "metadata": {},
   "outputs": [
    {
     "data": {
      "text/plain": [
       "perfil\n",
       "1     1.501488e+04\n",
       "2     2.910029e+04\n",
       "3     5.113253e+04\n",
       "4     8.866585e+04\n",
       "5     2.115530e+05\n",
       "6     3.036222e+05\n",
       "7     4.318137e+05\n",
       "8     7.908459e+05\n",
       "9     1.337393e+06\n",
       "10    2.186057e+06\n",
       "Name: Inercia (mm4), dtype: float64"
      ]
     },
     "execution_count": 92,
     "metadata": {},
     "output_type": "execute_result"
    }
   ],
   "source": [
    "## ((b*(t**3))/12) + ((t*b)*(h - ybarra - (t/2))**2) + ((t*(h-t)**3)/12) + ((t*(h-t))*(ybarra-((h-t)/2))**2)\n",
    "resultados['Inercia (mm4)']= ((perfiles ['b [mm]']*(perfiles ['t [mm]']**3))/12) + ((perfiles ['t [mm]']*perfiles ['b [mm]'])*(perfiles ['h [mm]']- ((perfiles ['t [mm]']*(perfiles ['h [mm]']-perfiles ['t [mm]'])*((perfiles ['h [mm]']-perfiles ['t [mm]'])/2)) + ((perfiles ['b [mm]']*perfiles ['t [mm]'])*((perfiles ['h [mm]']-perfiles ['t [mm]'])+(perfiles ['t [mm]']/2)))) / ((perfiles ['t [mm]']*perfiles ['b [mm]']) + (perfiles ['t [mm]']*(perfiles ['h [mm]']-perfiles ['t [mm]'])))  - (perfiles ['t [mm]']/2))**2) + ((perfiles ['t [mm]']*(perfiles ['h [mm]']-perfiles ['t [mm]'])**3)/12) + ((perfiles ['t [mm]']*(perfiles ['h [mm]']-perfiles ['t [mm]']))*(((perfiles ['t [mm]']*(perfiles ['h [mm]']-perfiles ['t [mm]'])*((perfiles ['h [mm]']-perfiles ['t [mm]'])/2)) + ((perfiles ['b [mm]']*perfiles ['t [mm]'])*((perfiles ['h [mm]']-perfiles ['t [mm]'])+(perfiles ['t [mm]']/2)))) / ((perfiles ['t [mm]']*perfiles ['b [mm]']) + (perfiles ['t [mm]']*(perfiles ['h [mm]']-perfiles ['t [mm]']))) -((perfiles ['h [mm]']-perfiles ['t [mm]'])/2))**2)\n",
    "resultados['Inercia (mm4)'] "
   ]
  },
  {
   "cell_type": "code",
   "execution_count": 93,
   "id": "4da7b77e",
   "metadata": {},
   "outputs": [
    {
     "data": {
      "text/plain": [
       "perfil\n",
       "1     18.928571\n",
       "2     22.900888\n",
       "3     26.873737\n",
       "4     30.659292\n",
       "5     38.417845\n",
       "6     42.642857\n",
       "7     46.176471\n",
       "8     53.935139\n",
       "9     61.693833\n",
       "10    69.264706\n",
       "Name: y barra mm, dtype: float64"
      ]
     },
     "execution_count": 93,
     "metadata": {},
     "output_type": "execute_result"
    }
   ],
   "source": [
    "##((t*(h-t)*((h-t)/2)) + ((b*t)*((h-t)+(t/2)))) / ((t*b) + (t*(h-t)))\n",
    "resultados['y barra mm']= ((perfiles ['t [mm]']*(perfiles ['h [mm]']-perfiles ['t [mm]'])*((perfiles ['h [mm]']-perfiles ['t [mm]'])/2)) + ((perfiles ['b [mm]']*perfiles ['t [mm]'])*((perfiles ['h [mm]']-perfiles ['t [mm]'])+(perfiles ['t [mm]']/2)))) / ((perfiles ['t [mm]']*perfiles ['b [mm]']) + (perfiles ['t [mm]']*(perfiles ['h [mm]']-perfiles ['t [mm]']))) \n",
    "resultados['y barra mm']"
   ]
  },
  {
   "cell_type": "code",
   "execution_count": 94,
   "id": "244ebc6a",
   "metadata": {},
   "outputs": [
    {
     "data": {
      "text/plain": [
       "perfil\n",
       "1     3977.615857\n",
       "2     2483.029669\n",
       "3     1658.279292\n",
       "4     1091.019854\n",
       "5      572.981669\n",
       "6      443.138718\n",
       "7      337.404745\n",
       "8      215.182445\n",
       "9      145.549120\n",
       "10      99.971776\n",
       "Name: Esfuerzo inf (MPa), dtype: float64"
      ]
     },
     "execution_count": 94,
     "metadata": {},
     "output_type": "execute_result"
    }
   ],
   "source": [
    "##esfuerzo= (((momento_maximo*10**6)*ybarra)/(Mix))\n",
    "resultados['Esfuerzo inf (MPa)']= ((momento_maximo *10 ** 6)*(resultados['y barra mm'])/(resultados['Inercia (mm4)']))\n",
    "resultados['Esfuerzo inf (MPa)']"
   ]
  },
  {
   "cell_type": "code",
   "execution_count": 95,
   "id": "e1530727",
   "metadata": {},
   "outputs": [
    {
     "data": {
      "text/plain": [
       "perfil\n",
       "1     1275.839049\n",
       "2      769.721554\n",
       "3      501.441718\n",
       "4      332.391819\n",
       "5      172.741674\n",
       "6      128.413732\n",
       "7      101.006516\n",
       "8       64.093210\n",
       "9       43.188216\n",
       "10      29.927857\n",
       "Name: Esfuerzo sup (MPa), dtype: float64"
      ]
     },
     "execution_count": 95,
     "metadata": {},
     "output_type": "execute_result"
    }
   ],
   "source": [
    "##esfuerzo= (((momento_maximo*10**6)*(ybarra-h mm)/(Mix))\n",
    "resultados['Esfuerzo sup (MPa)']= ((momento_maximo *10 ** 6)*(-resultados['y barra mm']+perfiles ['h [mm]'])/(resultados['Inercia (mm4)']))\n",
    "resultados['Esfuerzo sup (MPa)']"
   ]
  },
  {
   "cell_type": "code",
   "execution_count": 96,
   "id": "50e3f6e3",
   "metadata": {},
   "outputs": [
    {
     "data": {
      "text/plain": [
       "350.0"
      ]
     },
     "execution_count": 96,
     "metadata": {},
     "output_type": "execute_result"
    }
   ],
   "source": [
    "##perfil optimo \n",
    "area_minima= resultados['Area (mm2)'].min()\n",
    "area_minima"
   ]
  },
  {
   "cell_type": "code",
   "execution_count": 97,
   "id": "cf53b0d2",
   "metadata": {},
   "outputs": [
    {
     "data": {
      "text/plain": [
       "h [mm]                   25.000000\n",
       "b [mm]                   50.000000\n",
       "t [mm]                    5.000000\n",
       "Area (mm2)              350.000000\n",
       "Inercia (mm4)         15014.880952\n",
       "y barra mm               18.928571\n",
       "Esfuerzo inf (MPa)     3977.615857\n",
       "Esfuerzo sup (MPa)     1275.839049\n",
       "Name: 1, dtype: float64"
      ]
     },
     "execution_count": 97,
     "metadata": {},
     "output_type": "execute_result"
    }
   ],
   "source": [
    "perfiles.iloc[0]"
   ]
  },
  {
   "cell_type": "code",
   "execution_count": 98,
   "id": "06386918",
   "metadata": {},
   "outputs": [
    {
     "data": {
      "text/plain": [
       "1"
      ]
     },
     "execution_count": 98,
     "metadata": {},
     "output_type": "execute_result"
    }
   ],
   "source": [
    "indice = resultados['Area (mm2)'].idxmin()\n",
    "indice"
   ]
  },
  {
   "cell_type": "code",
   "execution_count": 99,
   "id": "6191bfa5",
   "metadata": {
    "scrolled": true
   },
   "outputs": [
    {
     "data": {
      "text/html": [
       "<div>\n",
       "<style scoped>\n",
       "    .dataframe tbody tr th:only-of-type {\n",
       "        vertical-align: middle;\n",
       "    }\n",
       "\n",
       "    .dataframe tbody tr th {\n",
       "        vertical-align: top;\n",
       "    }\n",
       "\n",
       "    .dataframe thead th {\n",
       "        text-align: right;\n",
       "    }\n",
       "</style>\n",
       "<table border=\"1\" class=\"dataframe\">\n",
       "  <thead>\n",
       "    <tr style=\"text-align: right;\">\n",
       "      <th></th>\n",
       "      <th>h [mm]</th>\n",
       "      <th>b [mm]</th>\n",
       "      <th>t [mm]</th>\n",
       "      <th>Area (mm2)</th>\n",
       "      <th>Inercia (mm4)</th>\n",
       "      <th>y barra mm</th>\n",
       "      <th>Esfuerzo inf (MPa)</th>\n",
       "      <th>Esfuerzo sup (MPa)</th>\n",
       "    </tr>\n",
       "    <tr>\n",
       "      <th>perfil</th>\n",
       "      <th></th>\n",
       "      <th></th>\n",
       "      <th></th>\n",
       "      <th></th>\n",
       "      <th></th>\n",
       "      <th></th>\n",
       "      <th></th>\n",
       "      <th></th>\n",
       "    </tr>\n",
       "  </thead>\n",
       "  <tbody>\n",
       "    <tr>\n",
       "      <th>2</th>\n",
       "      <td>30</td>\n",
       "      <td>60</td>\n",
       "      <td>5.5</td>\n",
       "      <td>464.75</td>\n",
       "      <td>29100.288801</td>\n",
       "      <td>22.900888</td>\n",
       "      <td>2483.029669</td>\n",
       "      <td>769.721554</td>\n",
       "    </tr>\n",
       "  </tbody>\n",
       "</table>\n",
       "</div>"
      ],
      "text/plain": [
       "        h [mm]  b [mm]  t [mm]  Area (mm2)  Inercia (mm4)  y barra mm  \\\n",
       "perfil                                                                  \n",
       "2           30      60     5.5      464.75   29100.288801   22.900888   \n",
       "\n",
       "        Esfuerzo inf (MPa)  Esfuerzo sup (MPa)  \n",
       "perfil                                          \n",
       "2              2483.029669          769.721554  "
      ]
     },
     "execution_count": 99,
     "metadata": {},
     "output_type": "execute_result"
    }
   ],
   "source": [
    "perfiles.iloc[[indice], :]"
   ]
  },
  {
   "cell_type": "code",
   "execution_count": 101,
   "id": "7c5c047a",
   "metadata": {},
   "outputs": [
    {
     "data": {
      "text/plain": [
       "perfil\n",
       "1     False\n",
       "2     False\n",
       "3     False\n",
       "4     False\n",
       "5     False\n",
       "6     False\n",
       "7     False\n",
       "8      True\n",
       "9      True\n",
       "10     True\n",
       "Name: Esfuerzo inf (MPa), dtype: bool"
      ]
     },
     "execution_count": 101,
     "metadata": {},
     "output_type": "execute_result"
    }
   ],
   "source": [
    "esfuerzo_menor_250= resultados['Esfuerzo inf (MPa)']<=250\n",
    "esfuerzo_menor_250"
   ]
  },
  {
   "cell_type": "code",
   "execution_count": 103,
   "id": "9f2b13dc",
   "metadata": {},
   "outputs": [
    {
     "data": {
      "text/html": [
       "<div>\n",
       "<style scoped>\n",
       "    .dataframe tbody tr th:only-of-type {\n",
       "        vertical-align: middle;\n",
       "    }\n",
       "\n",
       "    .dataframe tbody tr th {\n",
       "        vertical-align: top;\n",
       "    }\n",
       "\n",
       "    .dataframe thead th {\n",
       "        text-align: right;\n",
       "    }\n",
       "</style>\n",
       "<table border=\"1\" class=\"dataframe\">\n",
       "  <thead>\n",
       "    <tr style=\"text-align: right;\">\n",
       "      <th></th>\n",
       "      <th>h [mm]</th>\n",
       "      <th>b [mm]</th>\n",
       "      <th>t [mm]</th>\n",
       "      <th>Area (mm2)</th>\n",
       "      <th>Inercia (mm4)</th>\n",
       "      <th>y barra mm</th>\n",
       "      <th>Esfuerzo inf (MPa)</th>\n",
       "      <th>Esfuerzo sup (MPa)</th>\n",
       "    </tr>\n",
       "    <tr>\n",
       "      <th>perfil</th>\n",
       "      <th></th>\n",
       "      <th></th>\n",
       "      <th></th>\n",
       "      <th></th>\n",
       "      <th></th>\n",
       "      <th></th>\n",
       "      <th></th>\n",
       "      <th></th>\n",
       "    </tr>\n",
       "  </thead>\n",
       "  <tbody>\n",
       "    <tr>\n",
       "      <th>8</th>\n",
       "      <td>70</td>\n",
       "      <td>140</td>\n",
       "      <td>11.5</td>\n",
       "      <td>2282.75</td>\n",
       "      <td>7.908459e+05</td>\n",
       "      <td>53.935139</td>\n",
       "      <td>215.182445</td>\n",
       "      <td>64.093210</td>\n",
       "    </tr>\n",
       "    <tr>\n",
       "      <th>9</th>\n",
       "      <td>80</td>\n",
       "      <td>160</td>\n",
       "      <td>13.0</td>\n",
       "      <td>2951.00</td>\n",
       "      <td>1.337393e+06</td>\n",
       "      <td>61.693833</td>\n",
       "      <td>145.549120</td>\n",
       "      <td>43.188216</td>\n",
       "    </tr>\n",
       "    <tr>\n",
       "      <th>10</th>\n",
       "      <td>90</td>\n",
       "      <td>180</td>\n",
       "      <td>15.0</td>\n",
       "      <td>3825.00</td>\n",
       "      <td>2.186057e+06</td>\n",
       "      <td>69.264706</td>\n",
       "      <td>99.971776</td>\n",
       "      <td>29.927857</td>\n",
       "    </tr>\n",
       "  </tbody>\n",
       "</table>\n",
       "</div>"
      ],
      "text/plain": [
       "        h [mm]  b [mm]  t [mm]  Area (mm2)  Inercia (mm4)  y barra mm  \\\n",
       "perfil                                                                  \n",
       "8           70     140    11.5     2282.75   7.908459e+05   53.935139   \n",
       "9           80     160    13.0     2951.00   1.337393e+06   61.693833   \n",
       "10          90     180    15.0     3825.00   2.186057e+06   69.264706   \n",
       "\n",
       "        Esfuerzo inf (MPa)  Esfuerzo sup (MPa)  \n",
       "perfil                                          \n",
       "8               215.182445           64.093210  \n",
       "9               145.549120           43.188216  \n",
       "10               99.971776           29.927857  "
      ]
     },
     "execution_count": 103,
     "metadata": {},
     "output_type": "execute_result"
    }
   ],
   "source": [
    "filtro= resultados['Esfuerzo inf (MPa)']<=250\n",
    "resultados[filtro]"
   ]
  },
  {
   "cell_type": "code",
   "execution_count": 104,
   "id": "6c4fc526",
   "metadata": {},
   "outputs": [
    {
     "data": {
      "text/plain": [
       "perfil\n",
       "8     2282.75\n",
       "9     2951.00\n",
       "10    3825.00\n",
       "Name: Area (mm2), dtype: float64"
      ]
     },
     "execution_count": 104,
     "metadata": {},
     "output_type": "execute_result"
    }
   ],
   "source": [
    "resultados.loc[filtro, 'Area (mm2)']"
   ]
  },
  {
   "cell_type": "code",
   "execution_count": 105,
   "id": "2ef08389",
   "metadata": {},
   "outputs": [
    {
     "data": {
      "text/plain": [
       "2282.75"
      ]
     },
     "execution_count": 105,
     "metadata": {},
     "output_type": "execute_result"
    }
   ],
   "source": [
    "area_minima_perfil_optimo= resultados.loc[filtro, 'Area (mm2)'].min()\n",
    "area_minima_perfil_optimo"
   ]
  },
  {
   "cell_type": "code",
   "execution_count": 106,
   "id": "a8fe0796",
   "metadata": {},
   "outputs": [
    {
     "data": {
      "text/plain": [
       "8"
      ]
     },
     "execution_count": 106,
     "metadata": {},
     "output_type": "execute_result"
    }
   ],
   "source": [
    "indice_perfil = resultados.loc[filtro, 'Area (mm2)'].idxmin()\n",
    "indice_perfil\n",
    "##El perfil optimo para este ejercicicio es el numero 8 ya que su area es minima y resite el mayor esfuerzo sin sobrepasar el admisible que es 250"
   ]
  },
  {
   "cell_type": "code",
   "execution_count": 121,
   "id": "085264eb",
   "metadata": {},
   "outputs": [
    {
     "data": {
      "text/html": [
       "<div>\n",
       "<style scoped>\n",
       "    .dataframe tbody tr th:only-of-type {\n",
       "        vertical-align: middle;\n",
       "    }\n",
       "\n",
       "    .dataframe tbody tr th {\n",
       "        vertical-align: top;\n",
       "    }\n",
       "\n",
       "    .dataframe thead th {\n",
       "        text-align: right;\n",
       "    }\n",
       "</style>\n",
       "<table border=\"1\" class=\"dataframe\">\n",
       "  <thead>\n",
       "    <tr style=\"text-align: right;\">\n",
       "      <th></th>\n",
       "      <th>h [mm]</th>\n",
       "      <th>b [mm]</th>\n",
       "      <th>t [mm]</th>\n",
       "      <th>Area (mm2)</th>\n",
       "      <th>Inercia (mm4)</th>\n",
       "      <th>y barra mm</th>\n",
       "      <th>Esfuerzo inf (MPa)</th>\n",
       "      <th>Esfuerzo sup (MPa)</th>\n",
       "    </tr>\n",
       "    <tr>\n",
       "      <th>perfil</th>\n",
       "      <th></th>\n",
       "      <th></th>\n",
       "      <th></th>\n",
       "      <th></th>\n",
       "      <th></th>\n",
       "      <th></th>\n",
       "      <th></th>\n",
       "      <th></th>\n",
       "    </tr>\n",
       "  </thead>\n",
       "  <tbody>\n",
       "    <tr>\n",
       "      <th>8</th>\n",
       "      <td>70</td>\n",
       "      <td>140</td>\n",
       "      <td>11.5</td>\n",
       "      <td>2282.75</td>\n",
       "      <td>790845.875617</td>\n",
       "      <td>53.935139</td>\n",
       "      <td>215.182445</td>\n",
       "      <td>64.09321</td>\n",
       "    </tr>\n",
       "  </tbody>\n",
       "</table>\n",
       "</div>"
      ],
      "text/plain": [
       "        h [mm]  b [mm]  t [mm]  Area (mm2)  Inercia (mm4)  y barra mm  \\\n",
       "perfil                                                                  \n",
       "8           70     140    11.5     2282.75  790845.875617   53.935139   \n",
       "\n",
       "        Esfuerzo inf (MPa)  Esfuerzo sup (MPa)  \n",
       "perfil                                          \n",
       "8               215.182445            64.09321  "
      ]
     },
     "execution_count": 121,
     "metadata": {},
     "output_type": "execute_result"
    }
   ],
   "source": [
    "perfil_optimo= perfiles.loc[[indice_perfil], :]\n",
    "perfil_optimo\n"
   ]
  },
  {
   "cell_type": "code",
   "execution_count": 122,
   "id": "161069e5",
   "metadata": {},
   "outputs": [],
   "source": [
    "##funcion para que aparexca la linea de perfil_ultimo en el excel \n",
    "from openpyxl import load_workbook \n",
    "with pd.ExcelWriter('T2.xlsx', mode='a',if_sheet_exists=\"overlay\", engine='openpyxl') as writer:\n",
    "    # configurando sheets\n",
    "    book = load_workbook('T2.xlsx')\n",
    "    writer.book = book\n",
    "    writer.sheets = dict((ws.title, ws) for ws in book.worksheets)\n",
    "\n",
    "    perfil_ultimo.to_excel(writer, startrow=18, startcol=6, sheet_name='Perfiles', index=None) \n"
   ]
  },
  {
   "cell_type": "code",
   "execution_count": 120,
   "id": "154f7d7c",
   "metadata": {},
   "outputs": [
    {
     "data": {
      "text/html": [
       "<div>\n",
       "<style scoped>\n",
       "    .dataframe tbody tr th:only-of-type {\n",
       "        vertical-align: middle;\n",
       "    }\n",
       "\n",
       "    .dataframe tbody tr th {\n",
       "        vertical-align: top;\n",
       "    }\n",
       "\n",
       "    .dataframe thead th {\n",
       "        text-align: right;\n",
       "    }\n",
       "</style>\n",
       "<table border=\"1\" class=\"dataframe\">\n",
       "  <thead>\n",
       "    <tr style=\"text-align: right;\">\n",
       "      <th></th>\n",
       "      <th>h [mm]</th>\n",
       "      <th>b [mm]</th>\n",
       "      <th>t [mm]</th>\n",
       "      <th>Area (mm2)</th>\n",
       "      <th>Inercia (mm4)</th>\n",
       "      <th>y barra mm</th>\n",
       "      <th>Esfuerzo inf (MPa)</th>\n",
       "      <th>Esfuerzo sup (MPa)</th>\n",
       "    </tr>\n",
       "    <tr>\n",
       "      <th>perfil</th>\n",
       "      <th></th>\n",
       "      <th></th>\n",
       "      <th></th>\n",
       "      <th></th>\n",
       "      <th></th>\n",
       "      <th></th>\n",
       "      <th></th>\n",
       "      <th></th>\n",
       "    </tr>\n",
       "  </thead>\n",
       "  <tbody>\n",
       "    <tr>\n",
       "      <th>1</th>\n",
       "      <td>25</td>\n",
       "      <td>50</td>\n",
       "      <td>5.0</td>\n",
       "      <td>350.00</td>\n",
       "      <td>1.501488e+04</td>\n",
       "      <td>18.928571</td>\n",
       "      <td>3977.615857</td>\n",
       "      <td>1275.839049</td>\n",
       "    </tr>\n",
       "    <tr>\n",
       "      <th>2</th>\n",
       "      <td>30</td>\n",
       "      <td>60</td>\n",
       "      <td>5.5</td>\n",
       "      <td>464.75</td>\n",
       "      <td>2.910029e+04</td>\n",
       "      <td>22.900888</td>\n",
       "      <td>2483.029669</td>\n",
       "      <td>769.721554</td>\n",
       "    </tr>\n",
       "    <tr>\n",
       "      <th>3</th>\n",
       "      <td>35</td>\n",
       "      <td>70</td>\n",
       "      <td>6.0</td>\n",
       "      <td>594.00</td>\n",
       "      <td>5.113253e+04</td>\n",
       "      <td>26.873737</td>\n",
       "      <td>1658.279292</td>\n",
       "      <td>501.441718</td>\n",
       "    </tr>\n",
       "    <tr>\n",
       "      <th>4</th>\n",
       "      <td>40</td>\n",
       "      <td>80</td>\n",
       "      <td>7.0</td>\n",
       "      <td>791.00</td>\n",
       "      <td>8.866585e+04</td>\n",
       "      <td>30.659292</td>\n",
       "      <td>1091.019854</td>\n",
       "      <td>332.391819</td>\n",
       "    </tr>\n",
       "    <tr>\n",
       "      <th>5</th>\n",
       "      <td>50</td>\n",
       "      <td>100</td>\n",
       "      <td>8.5</td>\n",
       "      <td>1202.75</td>\n",
       "      <td>2.115530e+05</td>\n",
       "      <td>38.417845</td>\n",
       "      <td>572.981669</td>\n",
       "      <td>172.741674</td>\n",
       "    </tr>\n",
       "    <tr>\n",
       "      <th>6</th>\n",
       "      <td>55</td>\n",
       "      <td>115</td>\n",
       "      <td>9.0</td>\n",
       "      <td>1449.00</td>\n",
       "      <td>3.036222e+05</td>\n",
       "      <td>42.642857</td>\n",
       "      <td>443.138718</td>\n",
       "      <td>128.413732</td>\n",
       "    </tr>\n",
       "    <tr>\n",
       "      <th>7</th>\n",
       "      <td>60</td>\n",
       "      <td>120</td>\n",
       "      <td>10.0</td>\n",
       "      <td>1700.00</td>\n",
       "      <td>4.318137e+05</td>\n",
       "      <td>46.176471</td>\n",
       "      <td>337.404745</td>\n",
       "      <td>101.006516</td>\n",
       "    </tr>\n",
       "    <tr>\n",
       "      <th>8</th>\n",
       "      <td>70</td>\n",
       "      <td>140</td>\n",
       "      <td>11.5</td>\n",
       "      <td>2282.75</td>\n",
       "      <td>7.908459e+05</td>\n",
       "      <td>53.935139</td>\n",
       "      <td>215.182445</td>\n",
       "      <td>64.093210</td>\n",
       "    </tr>\n",
       "    <tr>\n",
       "      <th>9</th>\n",
       "      <td>80</td>\n",
       "      <td>160</td>\n",
       "      <td>13.0</td>\n",
       "      <td>2951.00</td>\n",
       "      <td>1.337393e+06</td>\n",
       "      <td>61.693833</td>\n",
       "      <td>145.549120</td>\n",
       "      <td>43.188216</td>\n",
       "    </tr>\n",
       "    <tr>\n",
       "      <th>10</th>\n",
       "      <td>90</td>\n",
       "      <td>180</td>\n",
       "      <td>15.0</td>\n",
       "      <td>3825.00</td>\n",
       "      <td>2.186057e+06</td>\n",
       "      <td>69.264706</td>\n",
       "      <td>99.971776</td>\n",
       "      <td>29.927857</td>\n",
       "    </tr>\n",
       "  </tbody>\n",
       "</table>\n",
       "</div>"
      ],
      "text/plain": [
       "        h [mm]  b [mm]  t [mm]  Area (mm2)  Inercia (mm4)  y barra mm  \\\n",
       "perfil                                                                  \n",
       "1           25      50     5.0      350.00   1.501488e+04   18.928571   \n",
       "2           30      60     5.5      464.75   2.910029e+04   22.900888   \n",
       "3           35      70     6.0      594.00   5.113253e+04   26.873737   \n",
       "4           40      80     7.0      791.00   8.866585e+04   30.659292   \n",
       "5           50     100     8.5     1202.75   2.115530e+05   38.417845   \n",
       "6           55     115     9.0     1449.00   3.036222e+05   42.642857   \n",
       "7           60     120    10.0     1700.00   4.318137e+05   46.176471   \n",
       "8           70     140    11.5     2282.75   7.908459e+05   53.935139   \n",
       "9           80     160    13.0     2951.00   1.337393e+06   61.693833   \n",
       "10          90     180    15.0     3825.00   2.186057e+06   69.264706   \n",
       "\n",
       "        Esfuerzo inf (MPa)  Esfuerzo sup (MPa)  \n",
       "perfil                                          \n",
       "1              3977.615857         1275.839049  \n",
       "2              2483.029669          769.721554  \n",
       "3              1658.279292          501.441718  \n",
       "4              1091.019854          332.391819  \n",
       "5               572.981669          172.741674  \n",
       "6               443.138718          128.413732  \n",
       "7               337.404745          101.006516  \n",
       "8               215.182445           64.093210  \n",
       "9               145.549120           43.188216  \n",
       "10               99.971776           29.927857  "
      ]
     },
     "execution_count": 120,
     "metadata": {},
     "output_type": "execute_result"
    }
   ],
   "source": [
    "resultados"
   ]
  },
  {
   "cell_type": "code",
   "execution_count": 118,
   "id": "dbe26d51",
   "metadata": {},
   "outputs": [],
   "source": [
    "from openpyxl import load_workbook\n",
    "\n",
    "with pd.ExcelWriter('T2.xlsx', mode='a',if_sheet_exists=\"overlay\", engine='openpyxl') as writer: \n",
    "    # configurando sheets \n",
    "    book = load_workbook('T2.xlsx') \n",
    "    # colocar el book dentro del writer de pandas \n",
    "    writer.book = book \n",
    "    writer.sheets = dict((ws.title, ws) for ws in book.worksheets) \n",
    "    perfiles.to_excel(writer, startrow=3, startcol=6, sheet_name='Perfiles')\n"
   ]
  },
  {
   "cell_type": "code",
   "execution_count": 125,
   "id": "8fd44c40",
   "metadata": {},
   "outputs": [
    {
     "data": {
      "text/html": [
       "<div>\n",
       "<style scoped>\n",
       "    .dataframe tbody tr th:only-of-type {\n",
       "        vertical-align: middle;\n",
       "    }\n",
       "\n",
       "    .dataframe tbody tr th {\n",
       "        vertical-align: top;\n",
       "    }\n",
       "\n",
       "    .dataframe thead th {\n",
       "        text-align: right;\n",
       "    }\n",
       "</style>\n",
       "<table border=\"1\" class=\"dataframe\">\n",
       "  <thead>\n",
       "    <tr style=\"text-align: right;\">\n",
       "      <th></th>\n",
       "      <th>h [mm]</th>\n",
       "      <th>b [mm]</th>\n",
       "      <th>t [mm]</th>\n",
       "      <th>Area (mm2)</th>\n",
       "      <th>Inercia (mm4)</th>\n",
       "      <th>y barra mm</th>\n",
       "      <th>Esfuerzo inf (MPa)</th>\n",
       "      <th>Esfuerzo sup (MPa)</th>\n",
       "    </tr>\n",
       "    <tr>\n",
       "      <th>perfil</th>\n",
       "      <th></th>\n",
       "      <th></th>\n",
       "      <th></th>\n",
       "      <th></th>\n",
       "      <th></th>\n",
       "      <th></th>\n",
       "      <th></th>\n",
       "      <th></th>\n",
       "    </tr>\n",
       "  </thead>\n",
       "  <tbody>\n",
       "    <tr>\n",
       "      <th>8</th>\n",
       "      <td>70</td>\n",
       "      <td>140</td>\n",
       "      <td>11.5</td>\n",
       "      <td>2282.75</td>\n",
       "      <td>790845.875617</td>\n",
       "      <td>53.935139</td>\n",
       "      <td>215.182445</td>\n",
       "      <td>64.09321</td>\n",
       "    </tr>\n",
       "  </tbody>\n",
       "</table>\n",
       "</div>"
      ],
      "text/plain": [
       "        h [mm]  b [mm]  t [mm]  Area (mm2)  Inercia (mm4)  y barra mm  \\\n",
       "perfil                                                                  \n",
       "8           70     140    11.5     2282.75  790845.875617   53.935139   \n",
       "\n",
       "        Esfuerzo inf (MPa)  Esfuerzo sup (MPa)  \n",
       "perfil                                          \n",
       "8               215.182445            64.09321  "
      ]
     },
     "execution_count": 125,
     "metadata": {},
     "output_type": "execute_result"
    }
   ],
   "source": [
    "perfil_optimo"
   ]
  },
  {
   "cell_type": "code",
   "execution_count": 126,
   "id": "cfcfe609",
   "metadata": {},
   "outputs": [],
   "source": [
    "##funcion para que aparexca la linea de perfil_ultimo en el excel \n",
    "from openpyxl import load_workbook \n",
    "with pd.ExcelWriter('T2.xlsx', mode='a',if_sheet_exists=\"overlay\", engine='openpyxl') as writer:\n",
    "    # configurando sheets\n",
    "    book = load_workbook('T2.xlsx')\n",
    "    writer.book = book\n",
    "    writer.sheets = dict((ws.title, ws) for ws in book.worksheets)\n",
    "\n",
    "    perfil_ultimo.to_excel(writer, startrow=18, startcol=6, sheet_name='Perfiles', index=None) "
   ]
  },
  {
   "cell_type": "code",
   "execution_count": null,
   "id": "045a32e5",
   "metadata": {},
   "outputs": [],
   "source": []
  }
 ],
 "metadata": {
  "kernelspec": {
   "display_name": "Python 3 (ipykernel)",
   "language": "python",
   "name": "python3"
  },
  "language_info": {
   "codemirror_mode": {
    "name": "ipython",
    "version": 3
   },
   "file_extension": ".py",
   "mimetype": "text/x-python",
   "name": "python",
   "nbconvert_exporter": "python",
   "pygments_lexer": "ipython3",
   "version": "3.10.2"
  }
 },
 "nbformat": 4,
 "nbformat_minor": 5
}
